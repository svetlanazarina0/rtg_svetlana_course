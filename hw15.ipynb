{
 "cells": [
  {
   "cell_type": "markdown",
   "metadata": {},
   "source": [
    "<h1> Svetlana Zarina</h1> \n",
    "\n",
    "\n",
    "![A pie!](https://images-gmi-pmc.edge-generalmills.com/da3263eb-2fb0-46c9-a889-b46d3d71435a.jpg)"
   ]
  },
  {
   "cell_type": "code",
   "execution_count": 61,
   "metadata": {},
   "outputs": [
    {
     "name": "stdout",
     "output_type": "stream",
     "text": [
      "Hello Notebooks!\n"
     ]
    }
   ],
   "source": [
    "print(\"Hello Notebooks!\")"
   ]
  },
  {
   "cell_type": "markdown",
   "metadata": {},
   "source": [
    "<!-- # TODO\n",
    "Create a new Jupyter Notebook\n",
    "top cell should be a markdown cell with headline and your name\n",
    "optional insert a hotlink to some nice picture\n",
    "\n",
    "rest will be code cells\n",
    "create a new code cell and write a function that prints \"Hello Notebooks!\"\n",
    "create a code cell for all imports that you need\n",
    "create a code cell for all variables that you need\n",
    "create a code cell for all functions that you need - optional\n",
    "create a code cell for all classes that you need - optional\n",
    "above could also be a single cell with all imports, variables, functions and classes\n",
    "\n",
    "have a cell that runs your previous homework from day 14\n",
    "ideally you would see a graph in the notebook\n",
    "\n",
    "if you do not have last homework\n",
    "enter any other homework from previous days\n",
    "theoretically you could also enter everything in a single cell\n",
    "but it is better to have a cell for each sub-task -->"
   ]
  },
  {
   "cell_type": "code",
   "execution_count": 62,
   "metadata": {},
   "outputs": [],
   "source": [
    "import matplotlib.pyplot as plt\n",
    "import numpy as np"
   ]
  },
  {
   "cell_type": "code",
   "execution_count": 63,
   "metadata": {},
   "outputs": [],
   "source": [
    "\n",
    "font = {'family' :'sans-serif',\n",
    "  'size'   : 8}\n",
    "x = np.linspace(-10,10)\n",
    "y = (x+5)**3\n",
    "fig, ax = plt.subplots()\n",
    "t = np.arange(-10,10,1)\n",
    "plt.close()\n"
   ]
  },
  {
   "cell_type": "code",
   "execution_count": 64,
   "metadata": {},
   "outputs": [
    {
     "data": {
      "image/png": "[encoded data removed]",
      "text/plain": [
       "<Figure size 640x480 with 1 Axes>"
      ]
     },
     "metadata": {},
     "output_type": "display_data"
    }
   ],
   "source": [
    "plt.subplots_adjust(left=0.3,bottom=0.3, top = 0.9, right = 0.9)\n",
    "plt.style.use('dark_background')\n",
    "\n",
    "# red dashes, blue squares and green triangles\n",
    "plt.plot(t, t**3, 'b--', linewidth=3)\n",
    "plt.xlabel('x' ,**font)\n",
    "plt.ylabel('x^3',**font)\n",
    "ax.grid(True, which='both')\n",
    "plt.yticks(fontsize=8)\n",
    "plt.xticks(fontsize=8);"
   ]
  }
 ],
 "metadata": {
  "kernelspec": {
   "display_name": "Python 3.10.7 64-bit (microsoft store)",
   "language": "python",
   "name": "python3"
  },
  "language_info": {
   "codemirror_mode": {
    "name": "ipython",
    "version": 3
   },
   "file_extension": ".py",
   "mimetype": "text/x-python",
   "name": "python",
   "nbconvert_exporter": "python",
   "pygments_lexer": "ipython3",
   "version": "3.10.7"
  },
  "orig_nbformat": 4,
  "vscode": {
   "interpreter": {
    "hash": "40ea231ce006ed65b013ba3e9b5a48267321b4d32b910ea3a649228a606377c3"
   }
  }
 },
 "nbformat": 4,
 "nbformat_minor": 2
}
